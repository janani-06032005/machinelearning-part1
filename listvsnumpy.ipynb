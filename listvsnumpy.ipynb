{
  "nbformat": 4,
  "nbformat_minor": 0,
  "metadata": {
    "colab": {
      "provenance": [],
      "authorship_tag": "ABX9TyPP6k25r+L49KnEliRMNDya",
      "include_colab_link": true
    },
    "kernelspec": {
      "name": "python3",
      "display_name": "Python 3"
    },
    "language_info": {
      "name": "python"
    }
  },
  "cells": [
    {
      "cell_type": "markdown",
      "metadata": {
        "id": "view-in-github",
        "colab_type": "text"
      },
      "source": [
        "<a href=\"https://colab.research.google.com/github/janani-06032005/machinelearning-part1/blob/main/listvsnumpy.ipynb\" target=\"_parent\"><img src=\"https://colab.research.google.com/assets/colab-badge.svg\" alt=\"Open In Colab\"/></a>"
      ]
    },
    {
      "cell_type": "markdown",
      "source": [
        "importing numpy"
      ],
      "metadata": {
        "id": "lpOzgWTIvUgp"
      }
    },
    {
      "cell_type": "code",
      "execution_count": null,
      "metadata": {
        "id": "1pgSCZKNueyX"
      },
      "outputs": [],
      "source": [
        "import numpy as np"
      ]
    },
    {
      "cell_type": "markdown",
      "source": [
        "importing time"
      ],
      "metadata": {
        "id": "8-s2iOKuvR85"
      }
    },
    {
      "cell_type": "code",
      "source": [
        "from time import process_time"
      ],
      "metadata": {
        "id": "lkVsR75Rvl9V"
      },
      "execution_count": null,
      "outputs": []
    },
    {
      "cell_type": "markdown",
      "source": [
        "time taken by list"
      ],
      "metadata": {
        "id": "2XzvOWN04QOl"
      }
    },
    {
      "cell_type": "code",
      "source": [
        "python_list=[i for i in range(100000)]\n",
        "\n",
        "start_time=process_time()\n",
        "\n",
        "python_list=[i+5 for i in range(100000)]\n",
        "\n",
        "\n",
        "end_time=process_time()\n",
        "\n",
        "print(end_time - start_time)"
      ],
      "metadata": {
        "colab": {
          "base_uri": "https://localhost:8080/"
        },
        "id": "LYU6-Rvy4PKc",
        "outputId": "ff4a91ec-f959-403b-f134-d1afd41b7be9"
      },
      "execution_count": null,
      "outputs": [
        {
          "output_type": "stream",
          "name": "stdout",
          "text": [
            "0.008888082999999547\n"
          ]
        }
      ]
    },
    {
      "cell_type": "markdown",
      "source": [
        "time taken by numpy"
      ],
      "metadata": {
        "id": "6q8W8cmn5CUI"
      }
    },
    {
      "cell_type": "code",
      "source": [
        "np_array = np.array([i for i in range(100000)])\n",
        "\n",
        "start_time=process_time()\n",
        "\n",
        "np_array += 5\n",
        "\n",
        "end_time = process_time()\n",
        "\n",
        "print(end_time - start_time)"
      ],
      "metadata": {
        "colab": {
          "base_uri": "https://localhost:8080/"
        },
        "id": "qcgOZzAI5E7V",
        "outputId": "fdb988bf-ba85-4e4f-cf32-1356abe4679f"
      },
      "execution_count": null,
      "outputs": [
        {
          "output_type": "stream",
          "name": "stdout",
          "text": [
            "0.0003730250000000268\n"
          ]
        }
      ]
    },
    {
      "cell_type": "code",
      "source": [],
      "metadata": {
        "id": "7K3TJp5E5mZE"
      },
      "execution_count": null,
      "outputs": []
    }
  ]
}